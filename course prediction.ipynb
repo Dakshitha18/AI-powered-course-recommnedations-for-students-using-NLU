{
 "cells": [
  {
   "cell_type": "code",
   "execution_count": 1,
   "id": "76347a8c",
   "metadata": {},
   "outputs": [
    {
     "name": "stderr",
     "output_type": "stream",
     "text": [
      "D:\\anaconda\\lib\\site-packages\\sklearn\\model_selection\\_split.py:700: UserWarning: The least populated class in y has only 1 members, which is less than n_splits=3.\n",
      "  warnings.warn(\n"
     ]
    },
    {
     "name": "stdout",
     "output_type": "stream",
     "text": [
      "Best Model Accuracy: 0.002717391304347826\n"
     ]
    },
    {
     "data": {
      "text/plain": [
       "['best_course_title_prediction_model.joblib']"
      ]
     },
     "execution_count": 1,
     "metadata": {},
     "output_type": "execute_result"
    }
   ],
   "source": [
    "import pandas as pd\n",
    "from sklearn.model_selection import train_test_split, GridSearchCV\n",
    "from sklearn.ensemble import RandomForestClassifier\n",
    "import joblib\n",
    "\n",
    "# Load your dataset from the CSV file\n",
    "dataset = pd.read_csv(r\"C:\\Users\\asuto\\Desktop\\intern ship 2\\student councelor\\udemy_courses.csv\")\n",
    "\n",
    "# Select features and target variable (replace 'category' with your actual target variable)\n",
    "selected_features = ['price', 'num_reviews', 'num_lectures', 'content_duration']\n",
    "X = dataset[selected_features]\n",
    "y = dataset['course_title']  \n",
    "\n",
    "# Split the dataset into training and testing sets\n",
    "X_train, X_test, y_train, y_test = train_test_split(X, y, test_size=0.2, random_state=42)\n",
    "\n",
    "# Create a RandomForestClassifier model\n",
    "rf_model = RandomForestClassifier()\n",
    "\n",
    "# Define a parameter grid for hyperparameter tuning\n",
    "param_grid = {\n",
    "    'n_estimators': [50, 100, 150],\n",
    "    'max_depth': [None, 10, 20, 30],\n",
    "    'min_samples_split': [2, 5, 10],\n",
    "    'min_samples_leaf': [1, 2, 4]\n",
    "}\n",
    "\n",
    "# Use GridSearchCV to find the best hyperparameters\n",
    "grid_search = GridSearchCV(estimator=rf_model, param_grid=param_grid, cv=3, scoring='accuracy')\n",
    "grid_search.fit(X_train, y_train)\n",
    "\n",
    "# Get the best model from the grid search\n",
    "best_model = grid_search.best_estimator_\n",
    "\n",
    "# Evaluate the best model on the testing data\n",
    "accuracy = best_model.score(X_test, y_test)\n",
    "print(f'Best Model Accuracy: {accuracy}')\n",
    "\n",
    "# Save the best model to a file using joblib\n",
    "joblib.dump(best_model, 'best_course_title_prediction_model.joblib')\n"
   ]
  },
  {
   "cell_type": "code",
   "execution_count": 4,
   "id": "e5217005",
   "metadata": {},
   "outputs": [
    {
     "name": "stdout",
     "output_type": "stream",
     "text": [
      "Enter the course price: 23\n",
      "Enter the number of reviews: 2\n",
      "Enter the number of lectures: 2\n",
      "Enter the content duration in hours: 3\n",
      "Predicted Course Title: Straight From Business School: Create Financial Statements\n"
     ]
    }
   ],
   "source": [
    "import pandas as pd\n",
    "import joblib\n",
    "\n",
    "# Load the best model from the saved file\n",
    "best_model = joblib.load('best_course_title_prediction_model.joblib')\n",
    "\n",
    "# Take user inputs for the selected features\n",
    "price = float(input('Enter the course price: '))\n",
    "num_reviews = int(input('Enter the number of reviews: '))\n",
    "num_lectures = int(input('Enter the number of lectures: '))\n",
    "content_duration = float(input('Enter the content duration in hours: '))\n",
    "\n",
    "# Create a DataFrame with the user inputs\n",
    "user_inputs = pd.DataFrame({\n",
    "    'price': [price],\n",
    "    'num_reviews': [num_reviews],\n",
    "    'num_lectures': [num_lectures],\n",
    "    'content_duration': [content_duration]\n",
    "})\n",
    "\n",
    "# Make predictions using the loaded model\n",
    "predicted_course_title = best_model.predict(user_inputs)\n",
    "\n",
    "# Display the predicted course title\n",
    "print(f'Predicted Course Title: {predicted_course_title[0]}')"
   ]
  },
  {
   "cell_type": "code",
   "execution_count": null,
   "id": "a98c9d59",
   "metadata": {},
   "outputs": [],
   "source": []
  }
 ],
 "metadata": {
  "kernelspec": {
   "display_name": "Python 3 (ipykernel)",
   "language": "python",
   "name": "python3"
  },
  "language_info": {
   "codemirror_mode": {
    "name": "ipython",
    "version": 3
   },
   "file_extension": ".py",
   "mimetype": "text/x-python",
   "name": "python",
   "nbconvert_exporter": "python",
   "pygments_lexer": "ipython3",
   "version": "3.10.9"
  }
 },
 "nbformat": 4,
 "nbformat_minor": 5
}
